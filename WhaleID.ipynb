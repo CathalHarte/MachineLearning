{
 "cells": [
  {
   "cell_type": "code",
   "execution_count": 1,
   "metadata": {
    "collapsed": true
   },
   "outputs": [],
   "source": [
    "import csv\n",
    "import numpy as np\n",
    "\n",
    "firstWhale = \"w_1287fbc\"\n",
    "infile = open('whale/train.csv', mode='r')\n",
    "rows = csv.reader(infile)\n",
    "BobPics = []\n",
    "UnknownPics = []\n",
    "for row in rows:\n",
    "    if row[1] == firstWhale:\n",
    "        BobPics.append(row[0]) \n",
    "    else:\n",
    "        UnknownPics.append(row[0])\n",
    "\n",
    "UnknownPics = np.random.permutation(UnknownPics[10:100])"
   ]
  },
  {
   "cell_type": "code",
   "execution_count": 15,
   "metadata": {},
   "outputs": [],
   "source": [
    "class LearningSet:\n",
    "    def __init__(self):\n",
    "        self.x = 0\n",
    "        self.y = 0\n",
    "    \n",
    "    def compare(self,image):\n",
    "        sx = self.x\n",
    "        sy = self.y\n",
    "        self.x = max([self.x, image.shape[0]])\n",
    "        self.y = max([self.x, image.shape[1]])\n",
    "        if sx == self.x & sy == self.y:\n",
    "            return True\n",
    "        else:\n",
    "            return False\n",
    "        \n",
    "    def prepareBatch(self, Images=None, classifier=None):\n",
    "        # In this function, what is Images?\n",
    "        # Classifier is an array of number classifications, if there are \n",
    "        # 25 distinct classifiers, then we find at each index a number between 0\n",
    "        # and 24\n",
    "        if Images==None:\n",
    "            Images=self.Batch\n",
    "        if classifier==None:\n",
    "            classifier=self.label\n",
    "        l = len(Images)\n",
    "        self.label = np.zeros((l,2))\n",
    "        self.Batch = np.zeros((l,self.x,self.y,1))\n",
    "        for i in range(l):\n",
    "            self.label[i,classifier[i]] = 1\n",
    "            x = Images[i].shape[0]\n",
    "            y = Images[i].shape[1]\n",
    "            self.Batch[i,0:x,0:y,0] = Images[i]\n",
    "            \n",
    "    def append(self, a):\n",
    "        if not compare(self,a):\n",
    "            self.prepareBatch()\n",
    "            "
   ]
  },
  {
   "cell_type": "code",
   "execution_count": 19,
   "metadata": {},
   "outputs": [
    {
     "ename": "AttributeError",
     "evalue": "'LearningSet' object has no attribute 'Batch'",
     "output_type": "error",
     "traceback": [
      "\u001b[1;31m---------------------------------------------------------------------------\u001b[0m",
      "\u001b[1;31mAttributeError\u001b[0m                            Traceback (most recent call last)",
      "\u001b[1;32m<ipython-input-19-0032b4da4a59>\u001b[0m in \u001b[0;36m<module>\u001b[1;34m()\u001b[0m\n\u001b[1;32m----> 1\u001b[1;33m \u001b[0mprint\u001b[0m\u001b[1;33m(\u001b[0m\u001b[0mpadding\u001b[0m\u001b[1;33m.\u001b[0m\u001b[0mBatch\u001b[0m\u001b[1;33m)\u001b[0m\u001b[1;33m\u001b[0m\u001b[0m\n\u001b[0m",
      "\u001b[1;31mAttributeError\u001b[0m: 'LearningSet' object has no attribute 'Batch'"
     ]
    }
   ],
   "source": [
    "print(padding.Batch)"
   ]
  },
  {
   "cell_type": "code",
   "execution_count": 17,
   "metadata": {},
   "outputs": [
    {
     "name": "stdout",
     "output_type": "stream",
     "text": [
      "111\n"
     ]
    },
    {
     "ename": "ValueError",
     "evalue": "could not broadcast input array from shape (700,1050) into shape (700,811)",
     "output_type": "error",
     "traceback": [
      "\u001b[1;31m---------------------------------------------------------------------------\u001b[0m",
      "\u001b[1;31mValueError\u001b[0m                                Traceback (most recent call last)",
      "\u001b[1;32m<ipython-input-17-c92bc8d1cb14>\u001b[0m in \u001b[0;36m<module>\u001b[1;34m()\u001b[0m\n\u001b[0;32m     24\u001b[0m     \u001b[0mx\u001b[0m \u001b[1;33m=\u001b[0m \u001b[0mBobsTail\u001b[0m\u001b[1;33m[\u001b[0m\u001b[0mi\u001b[0m\u001b[1;33m]\u001b[0m\u001b[1;33m.\u001b[0m\u001b[0mshape\u001b[0m\u001b[1;33m[\u001b[0m\u001b[1;36m0\u001b[0m\u001b[1;33m]\u001b[0m\u001b[1;33m\u001b[0m\u001b[0m\n\u001b[0;32m     25\u001b[0m     \u001b[0my\u001b[0m \u001b[1;33m=\u001b[0m \u001b[0mBobsTail\u001b[0m\u001b[1;33m[\u001b[0m\u001b[0mi\u001b[0m\u001b[1;33m]\u001b[0m\u001b[1;33m.\u001b[0m\u001b[0mshape\u001b[0m\u001b[1;33m[\u001b[0m\u001b[1;36m1\u001b[0m\u001b[1;33m]\u001b[0m\u001b[1;33m\u001b[0m\u001b[0m\n\u001b[1;32m---> 26\u001b[1;33m     \u001b[0mTail\u001b[0m\u001b[1;33m[\u001b[0m\u001b[0mi\u001b[0m\u001b[1;33m,\u001b[0m\u001b[1;36m0\u001b[0m\u001b[1;33m:\u001b[0m\u001b[0mx\u001b[0m\u001b[1;33m,\u001b[0m\u001b[1;36m0\u001b[0m\u001b[1;33m:\u001b[0m\u001b[0my\u001b[0m\u001b[1;33m,\u001b[0m\u001b[1;36m0\u001b[0m\u001b[1;33m]\u001b[0m \u001b[1;33m=\u001b[0m \u001b[0mBobsTail\u001b[0m\u001b[1;33m[\u001b[0m\u001b[0mi\u001b[0m\u001b[1;33m]\u001b[0m\u001b[1;33m\u001b[0m\u001b[0m\n\u001b[0m\u001b[0;32m     27\u001b[0m \u001b[1;32mfor\u001b[0m \u001b[0mi\u001b[0m \u001b[1;32min\u001b[0m \u001b[0mrange\u001b[0m\u001b[1;33m(\u001b[0m\u001b[0mlen\u001b[0m\u001b[1;33m(\u001b[0m\u001b[0mUnknownsTail\u001b[0m\u001b[1;33m)\u001b[0m\u001b[1;33m)\u001b[0m\u001b[1;33m:\u001b[0m\u001b[1;33m\u001b[0m\u001b[0m\n\u001b[0;32m     28\u001b[0m     \u001b[0mind\u001b[0m \u001b[1;33m=\u001b[0m \u001b[0mi\u001b[0m\u001b[1;33m+\u001b[0m\u001b[0mlen\u001b[0m\u001b[1;33m(\u001b[0m\u001b[0mBobsTail\u001b[0m\u001b[1;33m)\u001b[0m\u001b[1;33m\u001b[0m\u001b[0m\n",
      "\u001b[1;31mValueError\u001b[0m: could not broadcast input array from shape (700,1050) into shape (700,811)"
     ]
    }
   ],
   "source": [
    "from PIL import Image\n",
    "import matplotlib.pyplot as plt\n",
    "\n",
    "BobsTail = []\n",
    "UnknownsTail = []\n",
    "padding = LearningSet()\n",
    "for p in BobPics:\n",
    "    grey = np.asarray(Image.open(\"whale/\" + p))[:,:,0]\n",
    "    padding.compare(grey)\n",
    "    BobsTail.append(grey)\n",
    "for p in UnknownPics:\n",
    "    try:\n",
    "        grey = np.asarray(Image.open(\"whale/\" + p))[:,:,0]\n",
    "        padding.compare(grey)\n",
    "        UnknownsTail.append(grey)\n",
    "    except:\n",
    "        pass\n",
    "samples = len(BobsTail+UnknownsTail)\n",
    "print(samples)\n",
    "label = np.zeros((samples, 2))\n",
    "Tail = np.zeros((samples,padding.x,padding.y,1))\n",
    "for i in range(len(BobsTail)):\n",
    "    label[i,0] = 1\n",
    "    x = BobsTail[i].shape[0]\n",
    "    y = BobsTail[i].shape[1]\n",
    "    Tail[i,0:x,0:y,0] = BobsTail[i]\n",
    "for i in range(len(UnknownsTail)):\n",
    "    ind = i+len(BobsTail)\n",
    "    label[ind,0] = 1\n",
    "    x = UnknownsTail[i].shape[0]\n",
    "    y = UnknownsTail[i].shape[1]\n",
    "    Tail[ind,0:x,0:y,0] = UnknownsTail[i]\n",
    "    label[ind,1] = 1\n",
    "    \n",
    "print(padding.y)\n",
    "plt.imshow(Tail[0,:,:,0])\n",
    "plt.show()"
   ]
  },
  {
   "cell_type": "code",
   "execution_count": null,
   "metadata": {
    "collapsed": true
   },
   "outputs": [],
   "source": [
    "import pandas as pd\n",
    "from keras.utils.np_utils import to_categorical # convert to one-hot-encoding\n",
    "from keras.models import Sequential\n",
    "from keras.layers import Dense, Dropout, Flatten, Conv2D, MaxPool2D\n",
    "from keras.optimizers import RMSprop\n",
    "from keras.preprocessing.image import ImageDataGenerator\n",
    "from keras.callbacks import ReduceLROnPlateau\n",
    "\n",
    "model = Sequential()\n",
    "\n",
    "model.add(Conv2D(filters = 16, kernel_size = (5,5),padding = 'Same', \n",
    "                 activation ='relu', input_shape = (padding.x,padding.y,1)))\n",
    "model.add(MaxPool2D(pool_size=(4,4)))\n",
    "model.add(Dropout(0.25))\n",
    "\n",
    "\n",
    "model.add(Conv2D(filters = 8, kernel_size = (3,3),padding = 'Same', \n",
    "                 activation ='relu'))\n",
    "model.add(MaxPool2D(pool_size=(4,4), strides=(8,8)))\n",
    "model.add(Dropout(0.5))\n",
    "\n",
    "\n",
    "model.add(Flatten())\n",
    "model.add(Dense(256, activation = \"relu\"))\n",
    "model.add(Dropout(0.5))\n",
    "model.add(Dense(2, activation = \"sigmoid\"))\n",
    "          \n",
    "optimizer = RMSprop(lr=0.001, rho=0.9, epsilon=1e-08, decay=0.0)\n",
    "model.compile(optimizer = optimizer , loss = \"categorical_crossentropy\", metrics=[\"accuracy\"])"
   ]
  },
  {
   "cell_type": "code",
   "execution_count": null,
   "metadata": {
    "collapsed": true
   },
   "outputs": [],
   "source": [
    "model.fit(Tail, label, epochs=5, batch_size=5)\n"
   ]
  },
  {
   "cell_type": "code",
   "execution_count": null,
   "metadata": {
    "collapsed": true
   },
   "outputs": [],
   "source": [
    "loss_and_metrics = model.evaluate(test_numbers[5:9,:],test_label[5:9,:], batch_size=4)\n",
    "print(loss_and_metrics)"
   ]
  },
  {
   "cell_type": "code",
   "execution_count": null,
   "metadata": {
    "collapsed": true
   },
   "outputs": [],
   "source": [
    "from vis.visualization import visualize_saliency\n",
    "from vis.utils import utils\n",
    "from keras import activations\n",
    "\n",
    "# Utility to search for layer index by name. \n",
    "# Alternatively we can specify this as -1 since it corresponds to the last layer.\n",
    "layer_idx = utils.find_layer_idx(model, 'preds')\n",
    "\n",
    "# Swap softmax with linear\n",
    "model.layers[layer_idx].activation = activations.linear\n",
    "model = utils.apply_modifications(model)\n",
    "\n",
    "grads = visualize_saliency(model, layer_idx, filter_indices=class_idx, seed_input=x_test[idx])\n",
    "# Plot with 'jet' colormap to visualize as a heatmap.\n",
    "plt.imshow(grads, cmap='jet')"
   ]
  },
  {
   "cell_type": "code",
   "execution_count": null,
   "metadata": {
    "collapsed": true
   },
   "outputs": [],
   "source": []
  }
 ],
 "metadata": {
  "kernelspec": {
   "display_name": "Python 3",
   "language": "python",
   "name": "python3"
  }
 },
 "nbformat": 4,
 "nbformat_minor": 2
}
