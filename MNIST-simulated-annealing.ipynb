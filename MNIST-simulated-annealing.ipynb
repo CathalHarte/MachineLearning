{
 "cells": [
  {
   "cell_type": "code",
   "execution_count": 6,
   "metadata": {},
   "outputs": [
    {
     "name": "stdout",
     "output_type": "stream",
     "text": [
      "47040000 47040000\n"
     ]
    }
   ],
   "source": [
    "import numpy as np\n",
    "from NeuralNet import *\n",
    "from random import randint\n",
    "import math\n",
    "\n",
    "training_set  = open(\"train-images.idx3-ubyte\",\"r\")\n",
    "dt = np.dtype('>i4')\n",
    "np.fromfile(training_set, dt, count=4)\n",
    "dt = np.dtype('>u1')\n",
    "images = np.fromfile(training_set, dt)\n",
    "print(len(images), 28*28*60000)\n",
    "\n",
    "numbers = images.reshape((60000, 28*28))\n",
    "numbers = (numbers>0).astype(int)\n",
    "np.savetxt('result.txt', numbers[99].reshape((28,28)), fmt='%d')\n",
    "\n",
    "training_labels  = open(\"train-labels.idx1-ubyte\",\"r\")\n",
    "dt = np.dtype('>i4')\n",
    "labels = np.fromfile(training_labels, dt, count=2)\n",
    "dt = np.dtype('>i1')\n",
    "labels = np.fromfile(training_labels, dt)\n",
    "label = np.zeros((60000, 10))\n",
    "for i in range(0,60000):\n",
    "    label[i,labels[i]] = 1"
   ]
  },
  {
   "cell_type": "code",
   "execution_count": 28,
   "metadata": {
    "scrolled": true
   },
   "outputs": [
    {
     "name": "stdout",
     "output_type": "stream",
     "text": [
      "Iter: 14310 Improvement found 0.7184\r"
     ]
    },
    {
     "ename": "KeyboardInterrupt",
     "evalue": "",
     "output_type": "error",
     "traceback": [
      "\u001b[1;31m---------------------------------------------------------------------------\u001b[0m",
      "\u001b[1;31mKeyboardInterrupt\u001b[0m                         Traceback (most recent call last)",
      "\u001b[1;32m<ipython-input-28-34fa4997fbab>\u001b[0m in \u001b[0;36m<module>\u001b[1;34m()\u001b[0m\n\u001b[0;32m     15\u001b[0m     \u001b[1;32mfor\u001b[0m \u001b[0mj\u001b[0m \u001b[1;32min\u001b[0m \u001b[0mrange\u001b[0m\u001b[1;33m(\u001b[0m\u001b[1;36m1\u001b[0m\u001b[1;33m)\u001b[0m\u001b[1;33m:\u001b[0m \u001b[1;31m# Do multiple steps of learning\u001b[0m\u001b[1;33m\u001b[0m\u001b[0m\n\u001b[0;32m     16\u001b[0m         \u001b[0mnet\u001b[0m\u001b[1;33m.\u001b[0m\u001b[0mlearn\u001b[0m\u001b[1;33m(\u001b[0m\u001b[0mnumbers\u001b[0m\u001b[1;33m[\u001b[0m\u001b[0mi\u001b[0m\u001b[1;33m:\u001b[0m\u001b[0mi\u001b[0m\u001b[1;33m+\u001b[0m\u001b[1;36m10\u001b[0m\u001b[1;33m]\u001b[0m\u001b[1;33m,\u001b[0m\u001b[0mlab\u001b[0m\u001b[1;33m)\u001b[0m\u001b[1;33m\u001b[0m\u001b[0m\n\u001b[1;32m---> 17\u001b[1;33m     \u001b[0mnet\u001b[0m\u001b[1;33m.\u001b[0m\u001b[0msuccess_rate\u001b[0m\u001b[1;33m(\u001b[0m\u001b[0mnumbers\u001b[0m\u001b[1;33m[\u001b[0m\u001b[1;36m0\u001b[0m\u001b[1;33m:\u001b[0m\u001b[0msamples\u001b[0m\u001b[1;33m]\u001b[0m\u001b[1;33m,\u001b[0m\u001b[0mlabel\u001b[0m\u001b[1;33m[\u001b[0m\u001b[1;36m0\u001b[0m\u001b[1;33m:\u001b[0m\u001b[0msamples\u001b[0m\u001b[1;33m]\u001b[0m\u001b[1;33m)\u001b[0m\u001b[1;33m\u001b[0m\u001b[0m\n\u001b[0m\u001b[0;32m     18\u001b[0m     \u001b[0mchoice\u001b[0m \u001b[1;33m=\u001b[0m \u001b[1;34m\"Improvement found\"\u001b[0m\u001b[1;33m\u001b[0m\u001b[0m\n\u001b[0;32m     19\u001b[0m     \u001b[0mheat\u001b[0m \u001b[1;33m=\u001b[0m \u001b[1;36m10\u001b[0m\u001b[1;33m*\u001b[0m\u001b[1;33m(\u001b[0m\u001b[0msamples\u001b[0m\u001b[1;33m/\u001b[0m\u001b[1;36m2\u001b[0m\u001b[1;33m-\u001b[0m\u001b[0mi\u001b[0m\u001b[1;33m)\u001b[0m\u001b[1;33m/\u001b[0m\u001b[1;33m(\u001b[0m\u001b[0msamples\u001b[0m\u001b[1;33m)\u001b[0m\u001b[1;33m\u001b[0m\u001b[0m\n",
      "\u001b[1;32m~\\Documents\\EasyPython\\NeuralNet.py\u001b[0m in \u001b[0;36msuccess_rate\u001b[1;34m(self, X, y)\u001b[0m\n\u001b[0;32m     46\u001b[0m \u001b[1;33m\u001b[0m\u001b[0m\n\u001b[0;32m     47\u001b[0m     \u001b[1;32mdef\u001b[0m \u001b[0msuccess_rate\u001b[0m\u001b[1;33m(\u001b[0m\u001b[0mself\u001b[0m\u001b[1;33m,\u001b[0m\u001b[0mX\u001b[0m\u001b[1;33m,\u001b[0m\u001b[0my\u001b[0m\u001b[1;33m)\u001b[0m\u001b[1;33m:\u001b[0m\u001b[1;33m\u001b[0m\u001b[0m\n\u001b[1;32m---> 48\u001b[1;33m         \u001b[0mself\u001b[0m\u001b[1;33m.\u001b[0m\u001b[0mapply\u001b[0m\u001b[1;33m(\u001b[0m\u001b[0mX\u001b[0m\u001b[1;33m)\u001b[0m\u001b[1;33m\u001b[0m\u001b[0m\n\u001b[0m\u001b[0;32m     49\u001b[0m         \u001b[0mcorrect\u001b[0m \u001b[1;33m=\u001b[0m \u001b[1;36m0\u001b[0m\u001b[1;33m\u001b[0m\u001b[0m\n\u001b[0;32m     50\u001b[0m         \u001b[0msamples\u001b[0m \u001b[1;33m=\u001b[0m \u001b[0mX\u001b[0m\u001b[1;33m.\u001b[0m\u001b[0mshape\u001b[0m\u001b[1;33m[\u001b[0m\u001b[1;36m0\u001b[0m\u001b[1;33m]\u001b[0m\u001b[1;33m\u001b[0m\u001b[0m\n",
      "\u001b[1;32m~\\Documents\\EasyPython\\NeuralNet.py\u001b[0m in \u001b[0;36mapply\u001b[1;34m(self, X)\u001b[0m\n\u001b[0;32m     42\u001b[0m         \u001b[0mself\u001b[0m\u001b[1;33m.\u001b[0m\u001b[0mlayer\u001b[0m\u001b[1;33m.\u001b[0m\u001b[0mappend\u001b[0m\u001b[1;33m(\u001b[0m\u001b[0mX\u001b[0m\u001b[1;33m)\u001b[0m\u001b[1;33m\u001b[0m\u001b[0m\n\u001b[0;32m     43\u001b[0m         \u001b[1;32mfor\u001b[0m \u001b[0msynapse\u001b[0m \u001b[1;32min\u001b[0m \u001b[0mself\u001b[0m\u001b[1;33m.\u001b[0m\u001b[0msynapse\u001b[0m\u001b[1;33m:\u001b[0m\u001b[1;33m\u001b[0m\u001b[0m\n\u001b[1;32m---> 44\u001b[1;33m             \u001b[0mself\u001b[0m\u001b[1;33m.\u001b[0m\u001b[0mlayer\u001b[0m\u001b[1;33m.\u001b[0m\u001b[0mappend\u001b[0m\u001b[1;33m(\u001b[0m\u001b[0mself\u001b[0m\u001b[1;33m.\u001b[0m\u001b[0msigmoid\u001b[0m\u001b[1;33m(\u001b[0m\u001b[0mnp\u001b[0m\u001b[1;33m.\u001b[0m\u001b[0mdot\u001b[0m\u001b[1;33m(\u001b[0m\u001b[0mself\u001b[0m\u001b[1;33m.\u001b[0m\u001b[0mlayer\u001b[0m\u001b[1;33m[\u001b[0m\u001b[1;33m-\u001b[0m\u001b[1;36m1\u001b[0m\u001b[1;33m]\u001b[0m\u001b[1;33m,\u001b[0m\u001b[0msynapse\u001b[0m\u001b[1;33m)\u001b[0m\u001b[1;33m)\u001b[0m\u001b[1;33m)\u001b[0m\u001b[1;33m\u001b[0m\u001b[0m\n\u001b[0m\u001b[0;32m     45\u001b[0m         \u001b[0mself\u001b[0m\u001b[1;33m.\u001b[0m\u001b[0mdecision\u001b[0m \u001b[1;33m=\u001b[0m \u001b[0mself\u001b[0m\u001b[1;33m.\u001b[0m\u001b[0mlayer\u001b[0m\u001b[1;33m[\u001b[0m\u001b[1;33m-\u001b[0m\u001b[1;36m1\u001b[0m\u001b[1;33m]\u001b[0m\u001b[1;33m\u001b[0m\u001b[0m\n\u001b[0;32m     46\u001b[0m \u001b[1;33m\u001b[0m\u001b[0m\n",
      "\u001b[1;31mKeyboardInterrupt\u001b[0m: "
     ]
    }
   ],
   "source": [
    "\n",
    "# How should I sort between 0-9 when all I have is a simple probability maker so far?\n",
    "# One way is to have 10 outputs, and encode the labels into boxes\n",
    "\n",
    "net = LayeredNet([28*28,20,10,10])\n",
    "\n",
    "save = net.synapse\n",
    "prev = 0\n",
    "count = 0\n",
    "succ = []\n",
    "samples = 60000\n",
    "for i in range(0,samples,10):\n",
    "    save = net.synapse\n",
    "    lab = np.array(np.matrix(label[i:i+10,:]))\n",
    "    for j in range(1): # Do multiple steps of learning\n",
    "        net.learn(numbers[i:i+10],lab)\n",
    "    net.success_rate(numbers[0:samples],label[0:samples])\n",
    "    choice = \"Improvement found\"\n",
    "    heat = 10*(samples/2-i)/(samples)\n",
    "    curr = net.success_probability\n",
    "    if(prev > curr):\n",
    "        if randint(0, 50)*(prev-curr) < heat:\n",
    "            prev = curr\n",
    "            choice = \"Choosing worse\"\n",
    "        else:\n",
    "            net.synapse = save\n",
    "            choice = \"Not choosing worse\"\n",
    "    else:\n",
    "        prev = net.success_probability\n",
    "    succ.append(prev)\n",
    "    print(\"Iter:\", i, choice, prev, end='\\r')\n",
    "        \n",
    "        \n",
    "print(succ)\n",
    "print(\"Output After Training:\\n\", np.round(net.layer[-1]))\n",
    "print(\"True:\\n\", lab)\n"
   ]
  },
  {
   "cell_type": "code",
   "execution_count": 30,
   "metadata": {},
   "outputs": [
    {
     "name": "stdout",
     "output_type": "stream",
     "text": [
      "0.718\n",
      "Output vs True\n",
      "\n",
      "[ 0.  0.  0.  0.  0.  0.  0.  1.  0.  0.] : [ 0.  0.  0.  0.  0.  0.  0.  1.  0.  0.]\n",
      "[ 0.  0.  0.  0.  0.  0.  0.  0.  0.  0.] : [ 0.  0.  1.  0.  0.  0.  0.  0.  0.  0.]\n",
      "[ 0.  1.  0.  0.  0.  0.  0.  0.  0.  0.] : [ 0.  1.  0.  0.  0.  0.  0.  0.  0.  0.]\n",
      "[ 1.  0.  0.  0.  0.  0.  0.  0.  0.  0.] : [ 1.  0.  0.  0.  0.  0.  0.  0.  0.  0.]\n",
      "[ 0.  0.  0.  0.  1.  0.  0.  0.  0.  0.] : [ 0.  0.  0.  0.  1.  0.  0.  0.  0.  0.]\n"
     ]
    }
   ],
   "source": [
    "net.synapse = save\n",
    "start = 0\n",
    "end = 60000\n",
    "lab = np.array(np.matrix(label[start:end,:]))\n",
    "net.success_rate(numbers[start:end],lab)\n",
    "print(net.success_probability)\n",
    "\n",
    "print(\"Output vs True\\n\")\n",
    "for i in range(5):\n",
    "    print(np.round(net.layer[-1][i]), \":\", lab[i])"
   ]
  },
  {
   "cell_type": "code",
   "execution_count": 35,
   "metadata": {},
   "outputs": [
    {
     "name": "stdout",
     "output_type": "stream",
     "text": [
      "7840000 7840000\n",
      "0.718\n"
     ]
    }
   ],
   "source": [
    "testing_set  = open(\"t10k-images.idx3-ubyte\",\"r\")\n",
    "dt = np.dtype('>i4')\n",
    "np.fromfile(testing_set, dt, count=4)\n",
    "dt = np.dtype('>u1')\n",
    "images = np.fromfile(testing_set, dt)\n",
    "num_images = 10000\n",
    "dim = 28\n",
    "print(len(images), dim*dim*num_images)\n",
    "\n",
    "numbers = images.reshape((num_images, dim*dim))\n",
    "numbers = (numbers>0).astype(int)\n",
    "np.savetxt('result.txt', numbers[99].reshape((28,28)), fmt='%d')\n",
    "\n",
    "testing_labels  = open(\"t10k-labels.idx1-ubyte\",\"r\")\n",
    "dt = np.dtype('>i4')\n",
    "labels = np.fromfile(testing_labels, dt, count=2)\n",
    "dt = np.dtype('>i1')\n",
    "labels = np.fromfile(testing_labels, dt)\n",
    "label = np.zeros((num_images, 10))\n",
    "for i in range(0,num_images):\n",
    "    label[i,labels[i]] = 1\n",
    "\n",
    "net.success_rate(numbers,label)\n",
    "print(net.success_probability)"
   ]
  },
  {
   "cell_type": "code",
   "execution_count": null,
   "metadata": {
    "collapsed": true
   },
   "outputs": [],
   "source": []
  }
 ],
 "metadata": {
  "kernelspec": {
   "display_name": "Python 3",
   "language": "python",
   "name": "python3"
  },
  "language_info": {
   "codemirror_mode": {
    "name": "ipython",
    "version": 3
   },
   "file_extension": ".py",
   "mimetype": "text/x-python",
   "name": "python",
   "nbconvert_exporter": "python",
   "pygments_lexer": "ipython3",
   "version": "3.6.3"
  }
 },
 "nbformat": 4,
 "nbformat_minor": 2
}
