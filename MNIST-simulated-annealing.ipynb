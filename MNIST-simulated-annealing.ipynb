{
 "cells": [
  {
   "cell_type": "code",
   "execution_count": 1,
   "metadata": {},
   "outputs": [
    {
     "name": "stdout",
     "output_type": "stream",
     "text": [
      "47040000 47040000\n"
     ]
    }
   ],
   "source": [
    "import numpy as np\n",
    "from NeuralNet import *\n",
    "from random import randint\n",
    "from random import random\n",
    "import math\n",
    "\n",
    "training_set  = open(\"train-images.idx3-ubyte\",\"r\")\n",
    "dt = np.dtype('>i4')\n",
    "np.fromfile(training_set, dt, count=4)\n",
    "dt = np.dtype('>u1')\n",
    "images = np.fromfile(training_set, dt)\n",
    "dim = 28\n",
    "samples = 60000\n",
    "print(len(images), dim*dim*samples)\n",
    "\n",
    "numbers = images.reshape((samples, dim*dim))/256\n",
    "# numbers = (numbers>0).astype(int)\n",
    "np.savetxt('result.txt', numbers[99].reshape((dim,dim)), fmt='%d')\n",
    "\n",
    "training_labels  = open(\"train-labels.idx1-ubyte\",\"r\")\n",
    "dt = np.dtype('>i4')\n",
    "labels = np.fromfile(training_labels, dt, count=2)\n",
    "dt = np.dtype('>i1')\n",
    "labels = np.fromfile(training_labels, dt)\n",
    "label = np.zeros((samples, 10))\n",
    "for i in range(0,samples):\n",
    "    label[i,labels[i]] = 1"
   ]
  },
  {
   "cell_type": "code",
   "execution_count": 2,
   "metadata": {
    "scrolled": true
   },
   "outputs": [
    {
     "name": "stdout",
     "output_type": "stream",
     "text": [
      "55\r"
     ]
    },
    {
     "name": "stderr",
     "output_type": "stream",
     "text": [
      "C:\\Users\\CathalHarte\\Documents\\MachineLearning\\NeuralNet.py:26: RuntimeWarning: overflow encountered in exp\n",
      "  return 1/(1+np.exp(-x))\n"
     ]
    },
    {
     "name": "stdout",
     "output_type": "stream",
     "text": [
      "199\r"
     ]
    }
   ],
   "source": [
    "net = LayeredNet([28*28,10], \"sigmoid\")\n",
    "# net.grow(100)\n",
    "save = net.synapse\n",
    "prev = 0\n",
    "count = 0\n",
    "succ = []\n",
    "shuffled = np.random.permutation(np.arange(0,samples,10))\n",
    "frac = 1 # how much of the set are we going to train on\n",
    "for j in range(200):\n",
    "    print(j, end='\\r')\n",
    "    for i in shuffled[0:round(samples*frac)]:\n",
    "        save = net.synapse\n",
    "        lab = np.array(np.matrix(label[i:i+10,:]))\n",
    "        for j in range(1): # Do multiple steps of learning\n",
    "            net.learn(numbers[i:i+10],lab)\n"
   ]
  },
  {
   "cell_type": "code",
   "execution_count": 3,
   "metadata": {},
   "outputs": [
    {
     "name": "stderr",
     "output_type": "stream",
     "text": [
      "C:\\Users\\CathalHarte\\Documents\\MachineLearning\\NeuralNet.py:26: RuntimeWarning: overflow encountered in exp\n",
      "  return 1/(1+np.exp(-x))\n"
     ]
    },
    {
     "name": "stdout",
     "output_type": "stream",
     "text": [
      "0.8551\n",
      "Output vs True\n",
      "\n",
      "[ 0.  0.  0.  0.  0.  1.  0.  0.  0.  0.] : [ 0.  0.  0.  0.  0.  1.  0.  0.  0.  0.]\n",
      "[ 1.  0.  0.  0.  0.  0.  0.  0.  0.  0.] : [ 1.  0.  0.  0.  0.  0.  0.  0.  0.  0.]\n",
      "[ 0.  0.  0.  0.  1.  0.  0.  0.  0.  0.] : [ 0.  0.  0.  0.  1.  0.  0.  0.  0.  0.]\n",
      "[ 0.  1.  0.  0.  0.  0.  0.  0.  0.  0.] : [ 0.  1.  0.  0.  0.  0.  0.  0.  0.  0.]\n",
      "[ 0.  0.  0.  0.  0.  0.  0.  0.  0.  1.] : [ 0.  0.  0.  0.  0.  0.  0.  0.  0.  1.]\n"
     ]
    }
   ],
   "source": [
    "net.synapse = save\n",
    "start = 0\n",
    "end = 60000\n",
    "lab = np.array(np.matrix(label[start:end,:]))\n",
    "net.success_rate(numbers[start:end],lab)\n",
    "print(net.success_probability)\n",
    "\n",
    "print(\"Output vs True\\n\")\n",
    "for i in range(5):\n",
    "    print(np.round(net.layer[-1][i]), \":\", lab[i])"
   ]
  },
  {
   "cell_type": "code",
   "execution_count": 95,
   "metadata": {},
   "outputs": [
    {
     "name": "stdout",
     "output_type": "stream",
     "text": [
      "7840000 7840000\n"
     ]
    },
    {
     "name": "stderr",
     "output_type": "stream",
     "text": [
      "C:\\Users\\CathalHarte\\Documents\\MachineLearning\\NeuralNet.py:22: RuntimeWarning: overflow encountered in exp\n",
      "  \n"
     ]
    },
    {
     "name": "stdout",
     "output_type": "stream",
     "text": [
      "0.9442\n"
     ]
    },
    {
     "data": {
      "image/png": "[encoded data removed]",
      "text/plain": [
       "<matplotlib.figure.Figure at 0x145000d7b00>"
      ]
     },
     "metadata": {},
     "output_type": "display_data"
    }
   ],
   "source": [
    "testing_set  = open(\"t10k-images.idx3-ubyte\",\"r\")\n",
    "dt = np.dtype('>i4')\n",
    "np.fromfile(testing_set, dt, count=4)\n",
    "dt = np.dtype('>u1')\n",
    "images = np.fromfile(testing_set, dt)\n",
    "num_images = 10000\n",
    "dim = 28\n",
    "print(len(images), dim*dim*num_images)\n",
    "\n",
    "test_numbers = images.reshape((num_images, dim*dim))\n",
    "# test_numbers = (test_numbers>0).astype(int)\n",
    "import matplotlib.pyplot as plt\n",
    "\n",
    "testing_labels  = open(\"t10k-labels.idx1-ubyte\",\"r\")\n",
    "dt = np.dtype('>i4')\n",
    "labels = np.fromfile(testing_labels, dt, count=2)\n",
    "dt = np.dtype('>i1')\n",
    "labels = np.fromfile(testing_labels, dt)\n",
    "test_label = np.zeros((num_images, 10))\n",
    "for i in range(0,num_images):\n",
    "    test_label[i,labels[i]] = 1\n",
    "\n",
    "net.success_rate(test_numbers,test_label)\n",
    "print(net.success_probability)\n",
    "plt.imshow(test_numbers[99].reshape((28,28)))\n",
    "plt.show()"
   ]
  },
  {
   "cell_type": "code",
   "execution_count": null,
   "metadata": {
    "collapsed": true
   },
   "outputs": [],
   "source": [
    "from pathlib import Path\n",
    "\n",
    "num = 0\n",
    "save = Path(\"synapses\"+ str(num) + \".dat\")\n",
    "while save.is_file():\n",
    "    num += 1\n",
    "    save = Path(\"synapses\"+ str(num) + \".dat\")\n",
    "open(save, 'w').close()\n",
    "f=open(save,'ab')\n",
    "f.truncate()\n",
    "for syn in net.synapse:\n",
    "    np.savetxt(f,syn, fmt='%f')\n",
    "f.close()\n"
   ]
  },
  {
   "cell_type": "code",
   "execution_count": null,
   "metadata": {
    "collapsed": true
   },
   "outputs": [],
   "source": [
    "print(net.width)"
   ]
  },
  {
   "cell_type": "code",
   "execution_count": null,
   "metadata": {
    "collapsed": true
   },
   "outputs": [],
   "source": []
  }
 ],
 "metadata": {
  "kernelspec": {
   "display_name": "Python 3",
   "language": "python",
   "name": "python3"
  },
  "language_info": {
   "codemirror_mode": {
    "name": "ipython",
    "version": 3
   },
   "file_extension": ".py",
   "mimetype": "text/x-python",
   "name": "python",
   "nbconvert_exporter": "python",
   "pygments_lexer": "ipython3",
   "version": "3.6.3"
  }
 },
 "nbformat": 4,
 "nbformat_minor": 2
}
